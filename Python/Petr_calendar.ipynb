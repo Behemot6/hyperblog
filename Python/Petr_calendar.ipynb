{
 "metadata": {
  "language_info": {
   "codemirror_mode": {
    "name": "ipython",
    "version": 3
   },
   "file_extension": ".py",
   "mimetype": "text/x-python",
   "name": "python",
   "nbconvert_exporter": "python",
   "pygments_lexer": "ipython3",
   "version": "3.7.4-final"
  },
  "orig_nbformat": 2,
  "kernelspec": {
   "name": "python3",
   "display_name": "Python 3"
  }
 },
 "nbformat": 4,
 "nbformat_minor": 2,
 "cells": [
  {
   "cell_type": "code",
   "execution_count": 18,
   "metadata": {},
   "outputs": [],
   "source": [
    "# Codeforces Petr and Calendar\n",
    "import math"
   ]
  },
  {
   "cell_type": "code",
   "execution_count": 42,
   "metadata": {},
   "outputs": [],
   "source": [
    "def calendario():\n",
    "    m = int(input('Escribe el numero del mes \"Enero = 1, Diciembre = 12\"  '))\n",
    "    wd = int(input('Escribe un numero de dia de la semana \"Lunes = 1, domingo = 7\" '))\n",
    "    \n",
    "    d31 = [1,3,5,7,8,10,12]\n",
    "    d30 = [4,6,9,11]\n",
    "    semax= 0\n",
    "    for i in range(0,len(d31)):\n",
    "        if d31[i] == m:\n",
    "            semax = 31\n",
    "            break\n",
    "        elif m == 2:\n",
    "            semax = 28\n",
    "    if semax == 0:\n",
    "        semax = 30\n",
    "    columnas = int((semax+wd-1)/6)\n",
    "    return columnas\n"
   ]
  },
  {
   "cell_type": "code",
   "execution_count": 43,
   "metadata": {},
   "outputs": [
    {
     "output_type": "execute_result",
     "data": {
      "text/plain": "5"
     },
     "metadata": {},
     "execution_count": 43
    }
   ],
   "source": [
    "calendario()"
   ]
  },
  {
   "cell_type": "code",
   "execution_count": 20,
   "metadata": {},
   "outputs": [
    {
     "output_type": "execute_result",
     "data": {
      "text/plain": "9"
     },
     "metadata": {},
     "execution_count": 20
    }
   ],
   "source": [
    "math.ceil(8.1)"
   ]
  },
  {
   "cell_type": "code",
   "execution_count": null,
   "metadata": {},
   "outputs": [],
   "source": []
  }
 ]
}