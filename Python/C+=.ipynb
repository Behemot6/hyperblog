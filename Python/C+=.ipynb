{
 "cells": [
  {
   "cell_type": "code",
   "execution_count": 1,
   "metadata": {},
   "outputs": [],
   "source": [
    "#Codeforces C+="
   ]
  },
  {
   "cell_type": "code",
   "execution_count": 2,
   "metadata": {},
   "outputs": [],
   "source": [
    "def CMI():\n",
    "    Operaciones = int(input('Escriba el numero de operaciones que realizara'))\n",
    "    lista_a=[]\n",
    "    lista_b = []\n",
    "    lista_n = []\n",
    "    retorn = []\n",
    "    for i in range(0,Operaciones):\n",
    "        counter = 0\n",
    "        a = int(input('Ecriba un numero para sumar'))\n",
    "        lista_a.append(a)\n",
    "        b = int(input('Ecriba otro numero para sumar'))\n",
    "        lista_b.append(b)\n",
    "        n = int(input('Ecriba el numero que quiere superar'))\n",
    "        lista_n.append(n)\n",
    "    for id in range(0,len(lista_a)):\n",
    "        an = lista_a[id]\n",
    "        bn = lista_b[id]\n",
    "        nn = lista_n[id]\n",
    "        while an <= nn and bn <= nn:\n",
    "            counter = counter + 1\n",
    "            if an >= bn:\n",
    "                bn = bn + an\n",
    "            else:\n",
    "                an = an + bn\n",
    "        retorn.append(counter)\n",
    "        counter = 0\n",
    "    return[retorn]\n"
   ]
  },
  {
   "cell_type": "code",
   "execution_count": 3,
   "metadata": {},
   "outputs": [
    {
     "name": "stdout",
     "output_type": "stream",
     "text": [
      "Escriba el numero de operaciones que realizara1\n",
      "Ecriba un numero para sumar5\n",
      "Ecriba otro numero para sumar4\n",
      "Ecriba el numero que quiere superar100\n"
     ]
    },
    {
     "data": {
      "text/plain": [
       "[[7]]"
      ]
     },
     "execution_count": 3,
     "metadata": {},
     "output_type": "execute_result"
    }
   ],
   "source": [
    "CMI()"
   ]
  },
  {
   "cell_type": "code",
   "execution_count": null,
   "metadata": {},
   "outputs": [],
   "source": []
  }
 ],
 "metadata": {
  "kernelspec": {
   "display_name": "Python 3",
   "language": "python",
   "name": "python3"
  },
  "language_info": {
   "codemirror_mode": {
    "name": "ipython",
    "version": 3
   },
   "file_extension": ".py",
   "mimetype": "text/x-python",
   "name": "python",
   "nbconvert_exporter": "python",
   "pygments_lexer": "ipython3",
   "version": "3.7.4"
  }
 },
 "nbformat": 4,
 "nbformat_minor": 2
}
